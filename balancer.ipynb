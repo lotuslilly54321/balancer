{
 "cells": [
  {
   "cell_type": "code",
   "execution_count": 46,
   "metadata": {
    "collapsed": true
   },
   "outputs": [],
   "source": [
    "import datetime\n",
    "import math\n",
    "now = datetime.datetime.now()\n",
    "def balancedequation(input_equation_str):\n",
    "    print input_equation_str\n"
   ]
  },
  {
   "cell_type": "code",
   "execution_count": 47,
   "metadata": {
    "collapsed": false
   },
   "outputs": [
    {
     "name": "stdout",
     "output_type": "stream",
     "text": [
      "cat\n"
     ]
    }
   ],
   "source": [
    "balancedequation('cat')"
   ]
  },
  {
   "cell_type": "code",
   "execution_count": 49,
   "metadata": {
    "collapsed": false
   },
   "outputs": [],
   "source": [
    "# def seperater(inputmolecules):\n",
    "#     D = {}\n",
    "#     for i in range(len(inputmolecules)):\n",
    "#         for j in range(inputmolecules[i]):\n",
    "#             x = intify(inputmolecules[i][j])\n",
    "#             if x != 0:\n",
    "#                 D[inputmolecules[i][j-1]] = x\n",
    "#             elif x == 0:\n",
    "#                 if inputmolecules[i][j+1] = "
   ]
  },
  {
   "cell_type": "code",
   "execution_count": 50,
   "metadata": {
    "collapsed": false
   },
   "outputs": [],
   "source": [
    "def intify(x):\n",
    "    try:\n",
    "        x = int(x)\n",
    "        return x\n",
    "    except:        \n",
    "        return 0"
   ]
  },
  {
   "cell_type": "code",
   "execution_count": 51,
   "metadata": {
    "collapsed": false
   },
   "outputs": [
    {
     "data": {
      "text/plain": [
       "1"
      ]
     },
     "execution_count": 51,
     "metadata": {},
     "output_type": "execute_result"
    }
   ],
   "source": [
    "intify('1')"
   ]
  },
  {
   "cell_type": "code",
   "execution_count": 52,
   "metadata": {
    "collapsed": false
   },
   "outputs": [
    {
     "data": {
      "text/plain": [
       "0"
      ]
     },
     "execution_count": 52,
     "metadata": {},
     "output_type": "execute_result"
    }
   ],
   "source": [
    "intify('G')"
   ]
  },
  {
   "cell_type": "code",
   "execution_count": 53,
   "metadata": {
    "collapsed": true
   },
   "outputs": [],
   "source": [
    "# make a dictionary that has all of the current numbers of atoms of each kind\n",
    "# find the difference between the current number of each element and the number needed to be even.\n",
    "# start with no-brainers."
   ]
  },
  {
   "cell_type": "code",
   "execution_count": 54,
   "metadata": {
    "collapsed": false
   },
   "outputs": [],
   "source": [
    "equation = {\n",
    "    'reactants': [\n",
    "                    [1,('C',6),('H',12),('O',6)],\n",
    "                    [1,('O',2)]\n",
    "                 ],\n",
    "    'products': [\n",
    "                    [1,('C',1),('O',2)],\n",
    "                    [1,('H',2),('O',1)]\n",
    "                ]\n",
    "}\n",
    "lhs_totals = {\n",
    "    'H': 12,\n",
    "    'C': 6,\n",
    "    'O': 8\n",
    "}\n",
    "rhs_totals = {\n",
    "    'H': 2,\n",
    "    'C': 1,\n",
    "    'O': 3\n",
    "}"
   ]
  },
  {
   "cell_type": "code",
   "execution_count": 55,
   "metadata": {
    "collapsed": true
   },
   "outputs": [],
   "source": [
    "def lcm(num1,num2):\n",
    "    lcm = num1*num2\n",
    "    if num1<num2:\n",
    "        less = num1\n",
    "        greater=num2\n",
    "    else:\n",
    "        less = num2\n",
    "        greater = num1\n",
    "    for i in range(less,lcm):\n",
    "        if i%num1 == 0 and i%num2 == 0:\n",
    "            lcm = i\n",
    "            break\n",
    "    return lcm\n"
   ]
  },
  {
   "cell_type": "code",
   "execution_count": 56,
   "metadata": {
    "collapsed": true
   },
   "outputs": [],
   "source": [
    "def find_no_brainers(equation):\n",
    "    # return the nobrainers as a list\n",
    "    pass\n",
    "\n",
    "def calculate_for_1_no_brainer(no_brainer, equation, lhs_totals, rhs_totals):\n",
    "    reactants = equation['reactants']\n",
    "    products = equation['products']\n",
    "    lhs_num = lhs_totals[no_brainer]\n",
    "    rhs_num = rhs_totals[no_brainer]\n",
    "    lcm_no_brainer = lcm(lhs_num,rhs_num)\n",
    "    if lhs_num > rhs_num:\n",
    "        products[0] = lcm_no_brainer/rhs_num\n",
    "    elif lhs_num < rhs_num:\n",
    "        reactants[0] = lcm_no_brainer/lhs_num\n",
    "        "
   ]
  },
  {
   "cell_type": "code",
   "execution_count": 57,
   "metadata": {
    "collapsed": false
   },
   "outputs": [
    {
     "name": "stdout",
     "output_type": "stream",
     "text": [
      "{'reactants': [[1, ('C', 6), ('H', 12), ('O', 6)], [1, ('O', 2)]], 'products': [[1, ('C', 1), ('O', 2)], [1, ('H', 2), ('O', 1)]]}\n",
      "{'reactants': [[1, ('C', 6), ('H', 12), ('O', 6)], [1, ('O', 2)]], 'products': [6, [1, ('H', 2), ('O', 1)]]}\n"
     ]
    }
   ],
   "source": [
    "print equation\n",
    "calculate_for_1_no_brainer('H', equation, lhs_totals, rhs_totals)\n",
    "print equation"
   ]
  },
  {
   "cell_type": "code",
   "execution_count": 58,
   "metadata": {
    "collapsed": false
   },
   "outputs": [
    {
     "data": {
      "text/plain": [
       "12"
      ]
     },
     "execution_count": 58,
     "metadata": {},
     "output_type": "execute_result"
    }
   ],
   "source": [
    "lcm(2,12)"
   ]
  },
  {
   "cell_type": "code",
   "execution_count": 59,
   "metadata": {
    "collapsed": false
   },
   "outputs": [
    {
     "data": {
      "text/plain": [
       "210"
      ]
     },
     "execution_count": 59,
     "metadata": {},
     "output_type": "execute_result"
    }
   ],
   "source": [
    "lcm(14,15)"
   ]
  },
  {
   "cell_type": "code",
   "execution_count": 60,
   "metadata": {
    "collapsed": false
   },
   "outputs": [
    {
     "data": {
      "text/plain": [
       "6"
      ]
     },
     "execution_count": 60,
     "metadata": {},
     "output_type": "execute_result"
    }
   ],
   "source": [
    "lcm(2,6)"
   ]
  },
  {
   "cell_type": "code",
   "execution_count": 61,
   "metadata": {
    "collapsed": false
   },
   "outputs": [
    {
     "data": {
      "text/plain": [
       "6"
      ]
     },
     "execution_count": 61,
     "metadata": {},
     "output_type": "execute_result"
    }
   ],
   "source": [
    "lcm(6,2)"
   ]
  },
  {
   "cell_type": "code",
   "execution_count": 62,
   "metadata": {
    "collapsed": false
   },
   "outputs": [
    {
     "data": {
      "text/plain": [
       "48"
      ]
     },
     "execution_count": 62,
     "metadata": {},
     "output_type": "execute_result"
    }
   ],
   "source": [
    "lcm(3,16)"
   ]
  },
  {
   "cell_type": "code",
   "execution_count": 63,
   "metadata": {
    "collapsed": false
   },
   "outputs": [
    {
     "data": {
      "text/plain": [
       "12"
      ]
     },
     "execution_count": 63,
     "metadata": {},
     "output_type": "execute_result"
    }
   ],
   "source": [
    "lcm(4,3)"
   ]
  },
  {
   "cell_type": "code",
   "execution_count": 64,
   "metadata": {
    "collapsed": false
   },
   "outputs": [
    {
     "data": {
      "text/plain": [
       "72"
      ]
     },
     "execution_count": 64,
     "metadata": {},
     "output_type": "execute_result"
    }
   ],
   "source": [
    "lcm(24,18)"
   ]
  },
  {
   "cell_type": "code",
   "execution_count": 65,
   "metadata": {
    "collapsed": false
   },
   "outputs": [
    {
     "data": {
      "text/plain": [
       "100"
      ]
     },
     "execution_count": 65,
     "metadata": {},
     "output_type": "execute_result"
    }
   ],
   "source": [
    "lcm(100,20)"
   ]
  },
  {
   "cell_type": "code",
   "execution_count": 66,
   "metadata": {
    "collapsed": false
   },
   "outputs": [
    {
     "data": {
      "text/plain": [
       "100000"
      ]
     },
     "execution_count": 66,
     "metadata": {},
     "output_type": "execute_result"
    }
   ],
   "source": [
    "lcm(100000,2)"
   ]
  },
  {
   "cell_type": "code",
   "execution_count": 67,
   "metadata": {
    "collapsed": false
   },
   "outputs": [
    {
     "name": "stdout",
     "output_type": "stream",
     "text": [
      "1\n"
     ]
    }
   ],
   "source": [
    "2,9\n",
    "a = 2\n",
    "b = 9\n",
    "c = b\n",
    "c = c-a\n",
    "c = c-a\n",
    "c = c-a\n",
    "c = c-a\n",
    "print c"
   ]
  },
  {
   "cell_type": "code",
   "execution_count": 68,
   "metadata": {
    "collapsed": false
   },
   "outputs": [
    {
     "name": "stdout",
     "output_type": "stream",
     "text": [
      "4\n"
     ]
    }
   ],
   "source": [
    "4,8\n",
    "a = 4\n",
    "b = 8\n",
    "c = b\n",
    "c = c-a\n",
    "print c"
   ]
  },
  {
   "cell_type": "code",
   "execution_count": 69,
   "metadata": {
    "collapsed": false
   },
   "outputs": [
    {
     "name": "stdout",
     "output_type": "stream",
     "text": [
      "2\n"
     ]
    }
   ],
   "source": [
    "a = 2\n",
    "b = 6\n",
    "c = b\n",
    "c = c-a\n",
    "c = c-a\n",
    "print c"
   ]
  },
  {
   "cell_type": "code",
   "execution_count": 70,
   "metadata": {
    "collapsed": false
   },
   "outputs": [],
   "source": [
    "def gcf(a,b):\n",
    "    a,b = max(a,b),min(a,b)\n",
    "    while a>b:\n",
    "        a = a-b\n",
    "        a,b = max(a,b),min(a,b)\n",
    "    return a"
   ]
  },
  {
   "cell_type": "code",
   "execution_count": 71,
   "metadata": {
    "collapsed": false
   },
   "outputs": [
    {
     "data": {
      "text/plain": [
       "1"
      ]
     },
     "execution_count": 71,
     "metadata": {},
     "output_type": "execute_result"
    }
   ],
   "source": [
    "gcf(1,2)"
   ]
  },
  {
   "cell_type": "code",
   "execution_count": 72,
   "metadata": {
    "collapsed": false
   },
   "outputs": [
    {
     "data": {
      "text/plain": [
       "2"
      ]
     },
     "execution_count": 72,
     "metadata": {},
     "output_type": "execute_result"
    }
   ],
   "source": [
    "gcf(2,4)"
   ]
  },
  {
   "cell_type": "code",
   "execution_count": 73,
   "metadata": {
    "collapsed": false
   },
   "outputs": [
    {
     "data": {
      "text/plain": [
       "2"
      ]
     },
     "execution_count": 73,
     "metadata": {},
     "output_type": "execute_result"
    }
   ],
   "source": [
    "gcf(14,2)"
   ]
  },
  {
   "cell_type": "code",
   "execution_count": 74,
   "metadata": {
    "collapsed": false
   },
   "outputs": [
    {
     "data": {
      "text/plain": [
       "2"
      ]
     },
     "execution_count": 74,
     "metadata": {},
     "output_type": "execute_result"
    }
   ],
   "source": [
    "gcf(4,6)"
   ]
  },
  {
   "cell_type": "code",
   "execution_count": 75,
   "metadata": {
    "collapsed": false
   },
   "outputs": [
    {
     "data": {
      "text/plain": [
       "1"
      ]
     },
     "execution_count": 75,
     "metadata": {},
     "output_type": "execute_result"
    }
   ],
   "source": [
    "gcf(7,5)"
   ]
  },
  {
   "cell_type": "code",
   "execution_count": 76,
   "metadata": {
    "collapsed": true
   },
   "outputs": [],
   "source": [
    "def lcm(a,b):\n",
    "    lcm = a*b/gcf(a,b)\n",
    "    return lcm"
   ]
  },
  {
   "cell_type": "code",
   "execution_count": 77,
   "metadata": {
    "collapsed": false
   },
   "outputs": [
    {
     "data": {
      "text/plain": [
       "12"
      ]
     },
     "execution_count": 77,
     "metadata": {},
     "output_type": "execute_result"
    }
   ],
   "source": [
    "lcm(12,2)"
   ]
  },
  {
   "cell_type": "code",
   "execution_count": 78,
   "metadata": {
    "collapsed": false
   },
   "outputs": [
    {
     "data": {
      "text/plain": [
       "28"
      ]
     },
     "execution_count": 78,
     "metadata": {},
     "output_type": "execute_result"
    }
   ],
   "source": [
    "lcm(14,28)"
   ]
  },
  {
   "cell_type": "code",
   "execution_count": 79,
   "metadata": {
    "collapsed": false
   },
   "outputs": [],
   "source": [
    "# algorithm\n",
    "\n",
    "# Data structures\n",
    "# 1. data structure to keep track of the total atoms on each side\n",
    "# 2. data structure to keep track of each part of the equation (compound)\n",
    "#     compound = (#, molecule)\n",
    "#     module = (#, atom)\n",
    "\n",
    "# Tokenizer\n",
    "#    C6H1206 + O2 = C102 + H201\n",
    "#    Start reading characters from the left hand side\n",
    "#    'C' - it an alphabet and not an integer, so it trigger the following tokens are recognized\n",
    "#        - TOKEN.START_EQUATION\n",
    "#        - TOKEN.START_LHS\n",
    "#        - TOKEN.START_COMPOUND\n",
    "#        - TOKEN.START_MOLECULE\n",
    "#        - TOKEN.START_ATOM\n",
    "#    '+' - TOKEN.END_ATOM\n",
    "#        - TOKEN.END_MOLECULE \n",
    "#        - TOKEN.END_COMPOUND \n",
    "#    ' ' - TOKEN.WHITESPACE\n",
    "#    '=' - TOKEN.END_LHS\n",
    "#        - TOKEN.START_RHS\n",
    "#    <end> - TOKEN.END_ATOM\n",
    "#          - TOKEN.END_MOLECULE\n",
    "#          - TOKEN.END_COMPOUND\n",
    "#          - TOKEN.END_RHS\n",
    "#          - TOKEN.END_EQUATION\n",
    "class TOKEN_STATE:\n",
    "    START=0\n",
    "    REACTANTS=1\n",
    "    PRODUCTS=2\n",
    "    COMPOUND=4\n",
    "    MOLECULE=8\n",
    "    ATOM=16    \n",
    "    END=32\n",
    "    \n",
    "class TOKEN:\n",
    "    WHITESPACE = 1\n",
    "    ALPHABET = 2\n",
    "    DIGIT = 4\n",
    "    EQUALS = 8\n",
    "    PLUS = 16\n",
    "    SPACE = 32\n",
    "    \n",
    "def token_to_str(tkn):\n",
    "    if tkn == TOKEN.WHITESPACE:\n",
    "        return \"WHITESPACE\"\n",
    "    if tkn == TOKEN.ALPHABET:\n",
    "        return \"ALPHABET\"\n",
    "    if tkn == TOKEN.DIGIT:\n",
    "        return \"DIGIT\"\n",
    "    if tkn == TOKEN.EQUALS:\n",
    "        return \"EQUALS\"\n",
    "    if tkn == TOKEN.PLUS:\n",
    "        return \"PLUS\"\n",
    "    if tkn == TOKEN.SPACE:\n",
    "        return \"SPACE\"\n",
    "    return \"UNKNOWN\"\n",
    "    \n",
    "def tokenizer(string):\n",
    "    pass\n",
    "    \n",
    "# input is a character\n",
    "# output is a TOKEN\n",
    "# ex. for a space return TOKEN.WHITESPACE\n",
    "# ex. for a = return TOKEN.EQUALS\n",
    "\n",
    "# helper functions\n",
    "# isalpha - returns True if the char is an alphabet\n",
    "# isdigit - returns True if the char is an digit\n",
    "def get_token(char):\n",
    "    if char.isalpha() :\n",
    "        return TOKEN.ALPHABET\n",
    "    if char.isdigit() :\n",
    "        return TOKEN.DIGIT\n",
    "    if char.isspace() :\n",
    "        return TOKEN.SPACE\n",
    "    if char == '=':\n",
    "        return TOKEN.EQUALS\n",
    "    if char == '+':\n",
    "        return TOKEN.PLUS\n",
    "    return TOKEN.UNKOWN\n"
   ]
  },
  {
   "cell_type": "code",
   "execution_count": 80,
   "metadata": {
    "collapsed": false
   },
   "outputs": [
    {
     "data": {
      "text/plain": [
       "8"
      ]
     },
     "execution_count": 80,
     "metadata": {},
     "output_type": "execute_result"
    }
   ],
   "source": [
    "get_token('=')"
   ]
  },
  {
   "cell_type": "code",
   "execution_count": 81,
   "metadata": {
    "collapsed": true
   },
   "outputs": [],
   "source": [
    "# class TOKEN_STATE:\n",
    "#     START=0\n",
    "#     REACTANTS=1\n",
    "#     PRODUCTS=2\n",
    "#     COMPOUND=4\n",
    "#     MOLECULE=8\n",
    "#     ATOM=16    \n",
    "#     END=32\n",
    "    \n",
    "# class TOKEN:\n",
    "#     WHITESPACE = 1\n",
    "#     ALPHABET = 2\n",
    "#     DIGIT = 4\n",
    "#     EQUALS = 8\n",
    "#     PLUS = 16\n",
    "#     SPACE = 32\n",
    "\n",
    "# Data structures\n",
    "# 1. data structure to keep track of the total atoms on each side\n",
    "# 2. data structure to keep track of each part of the equation (compound)\n",
    "#     compound = (#, molecule)\n",
    "#     module = (#, atom)\n",
    "\n",
    "    "
   ]
  },
  {
   "cell_type": "code",
   "execution_count": 82,
   "metadata": {
    "collapsed": false
   },
   "outputs": [
    {
     "name": "stdout",
     "output_type": "stream",
     "text": [
      "C ALPHABET\n",
      "6 DIGIT\n",
      "H ALPHABET\n",
      "1 DIGIT\n",
      "2 DIGIT\n",
      "O ALPHABET\n",
      "6 DIGIT\n",
      "  SPACE\n",
      "+ PLUS\n",
      "  SPACE\n",
      "O ALPHABET\n",
      "2 DIGIT\n",
      "  SPACE\n",
      "= EQUALS\n",
      "  SPACE\n",
      "C ALPHABET\n",
      "1 DIGIT\n",
      "O ALPHABET\n",
      "2 DIGIT\n",
      "  SPACE\n",
      "+ PLUS\n",
      "  SPACE\n",
      "H ALPHABET\n",
      "2 DIGIT\n",
      "O ALPHABET\n",
      "1 DIGIT\n"
     ]
    }
   ],
   "source": [
    "a = 'C6H12O6 + O2 = C1O2 + H2O1'\n",
    "for c in a:\n",
    "    print c,token_to_str(get_token(c))"
   ]
  },
  {
   "cell_type": "code",
   "execution_count": 83,
   "metadata": {
    "collapsed": true
   },
   "outputs": [],
   "source": [
    "class TOKEN_STATE:\n",
    "    START=0\n",
    "    REACTANTS=1\n",
    "    PRODUCTS=2\n",
    "    COMPOUND=4\n",
    "    MOLECULE=8\n",
    "    ATOM=16    \n",
    "    END=32\n",
    "    \n",
    "class TOKEN:\n",
    "    WHITESPACE = 1\n",
    "    ALPHABET = 2\n",
    "    DIGIT = 4\n",
    "    EQUALS = 8\n",
    "    PLUS = 16\n",
    "    SPACE = 32"
   ]
  },
  {
   "cell_type": "code",
   "execution_count": 84,
   "metadata": {
    "collapsed": true
   },
   "outputs": [],
   "source": [
    "# helper functions\n",
    "# isalpha - returns True if the char is an alphabet\n",
    "# isdigit - returns True if the char is an digit\n",
    "def get_token(char):\n",
    "    if char.isalpha() :\n",
    "        return TOKEN.ALPHABET\n",
    "    if char.isdigit() :\n",
    "        return TOKEN.DIGIT\n",
    "    if char.isspace() :\n",
    "        return TOKEN.SPACE\n",
    "    if char == '=':\n",
    "        return TOKEN.EQUALS\n",
    "    if char == '+':\n",
    "        return TOKEN.PLUS\n",
    "    return TOKEN.UNKOWN"
   ]
  },
  {
   "cell_type": "code",
   "execution_count": 85,
   "metadata": {
    "collapsed": false
   },
   "outputs": [],
   "source": [
    "class Atom:\n",
    "    def __init__(self):\n",
    "        self.amount = 0\n",
    "        self.symbol = None\n",
    "    def __str__(self):\n",
    "        s = \"Atom\" + \"\\n\"\n",
    "        s = s + \"Amount: \" + str(self.amount) + \"\\n\"\n",
    "        s = s + \"Symbol: \" + str(self.symbol) + \"\\n\"\n",
    "        return s\n",
    "        \n",
    "class Molecule:\n",
    "    def __init__(self):\n",
    "        self.atoms = []\n",
    "    def __str__(self):\n",
    "        s = \"Molecule\" + \"\\n\"\n",
    "        for atom in self.atoms:\n",
    "            s = s + str(atom) + \"\\n\"\n",
    "        return s\n",
    "        \n",
    "class ChemicalCompound:\n",
    "    def __init__(self):\n",
    "        self.amount = 0\n",
    "        self.molecule = None\n",
    "    def __str__(self):\n",
    "        s = \"Compound\" + \"\\n\"\n",
    "        s = s + \"Amount: \" + str(self.amount) + \"\\n\"\n",
    "        s = s + str(self.molecule) + \"\\n\"\n",
    "        return s\n",
    "\n",
    "class ChemicalEquation:\n",
    "    def __init__(self):\n",
    "        self.reactants = []\n",
    "        self.products = []\n",
    "    def __str__(self):\n",
    "        s = \"Chemical Equation\" + \"\\n\"\n",
    "        s = s + \"Reactants:\" + \"\\n\"\n",
    "        for reactant in self.reactants:\n",
    "            s = s + str(reactant) + \"\\n\"\n",
    "        s = s + \"Products:\" + \"\\n\"\n",
    "        for product in self.products:\n",
    "            s = s + str(product) + \"\\n\"\n",
    "        return s"
   ]
  },
  {
   "cell_type": "code",
   "execution_count": 98,
   "metadata": {
    "collapsed": false
   },
   "outputs": [],
   "source": [
    "class Parser:\n",
    "    def parse(self, string):\n",
    "        tokenState = TOKEN_STATE.START | TOKEN_STATE.REACTANTS\n",
    "        equation = ChemicalEquation()\n",
    "        compound = ChemicalCompound()\n",
    "        molecule = Molecule()\n",
    "        \n",
    "        equation.reactants.append(compound)\n",
    "        compound.molecule = molecule\n",
    "        compound.amount = 1\n",
    "        \n",
    "        atom_symbol = None\n",
    "        atom_amount = 0\n",
    "        for c in string:\n",
    "            tkn = get_token(c)\n",
    "            if tkn == TOKEN.EQUALS:\n",
    "                tokenState = tokenState | TOKEN_STATE.PRODUCTS\n",
    "                tokenState = tokenState & (~ TOKEN_STATE.REACTANTS)\n",
    "                tokenState = tokenState | TOKEN_STATE.COMPOUND\n",
    "            if tkn == TOKEN.ALPHABET:\n",
    "                if atom_symbol is not None and atom_amount > 0:\n",
    "                    atom = Atom()\n",
    "                    atom.symbol = atom_symbol\n",
    "                    atom.amount = atom_amount\n",
    "                    molecule.atoms.append(atom)\n",
    "                    atom_symbol = None\n",
    "                    atom_amount = 0\n",
    "                atom_symbol = c\n",
    "                tokenState = tokenState | TOKEN_STATE.ATOM | TOKEN_STATE.COMPOUND \n",
    "            if tkn == TOKEN.DIGIT:\n",
    "                atom_amount = atom_amount * 10 + int(c)\n",
    "            if tkn == TOKEN.WHITESPACE:\n",
    "                compound = ChemicalCompound()\n",
    "                molecule = Molecule()\n",
    "                compound.molecule = molecule\n",
    "                compound.amount = 1\n",
    "                if tokenState & TOKEN_STATE.REACTANTS == TOKEN_STATE.REACTANTS:\n",
    "                    equation.reactants.append(compound)\n",
    "                if tokenState & TOKEN_STATE.PRODUCTS == TOKEN_STATE.PRODUCTS:\n",
    "                    equation.products.append(compound)\n",
    "        if tokenState & TOKEN_STATE.REACTANTS == TOKEN_STATE.REACTANTS:\n",
    "            equation.reactants.append(compound)\n",
    "        if tokenState & TOKEN_STATE.PRODUCTS == TOKEN_STATE.PRODUCTS:\n",
    "            equation.products.append(compound)\n",
    "        \n",
    "\n",
    "        return equation     "
   ]
  },
  {
   "cell_type": "code",
   "execution_count": 99,
   "metadata": {
    "collapsed": false
   },
   "outputs": [
    {
     "name": "stdout",
     "output_type": "stream",
     "text": [
      "initial tokenState= 1\n",
      "Chemical Equation\n",
      "Reactants:\n",
      "Compound\n",
      "Amount: 1\n",
      "Molecule\n",
      "\n",
      "\n",
      "Products:\n",
      "\n"
     ]
    }
   ],
   "source": [
    "# string = 'C6H12O6 + O2 = C1O2 + H2O1'\n",
    "string = 'O = O'\n",
    "parser = Parser()\n",
    "data_structure = parser.parse(string)\n",
    "print data_structure"
   ]
  },
  {
   "cell_type": "code",
   "execution_count": 88,
   "metadata": {
    "collapsed": false
   },
   "outputs": [
    {
     "name": "stdout",
     "output_type": "stream",
     "text": [
      "0b0\n",
      "0b1\n",
      "0b11\n",
      "0b10\n"
     ]
    }
   ],
   "source": [
    "tokenState = 0\n",
    "print bin(tokenState)\n",
    "tokenState = TOKEN_STATE.START | TOKEN_STATE.REACTANTS\n",
    "print bin(tokenState)\n",
    "tokenState = tokenState | TOKEN_STATE.PRODUCTS\n",
    "print bin(tokenState)\n",
    "tokenState = tokenState & ( ~ TOKEN_STATE.REACTANTS )\n",
    "print bin(tokenState)"
   ]
  },
  {
   "cell_type": "code",
   "execution_count": null,
   "metadata": {
    "collapsed": true
   },
   "outputs": [],
   "source": []
  },
  {
   "cell_type": "code",
   "execution_count": null,
   "metadata": {
    "collapsed": true
   },
   "outputs": [],
   "source": []
  }
 ],
 "metadata": {
  "anaconda-cloud": {},
  "kernelspec": {
   "display_name": "Python [Root]",
   "language": "python",
   "name": "Python [Root]"
  },
  "language_info": {
   "codemirror_mode": {
    "name": "ipython",
    "version": 2
   },
   "file_extension": ".py",
   "mimetype": "text/x-python",
   "name": "python",
   "nbconvert_exporter": "python",
   "pygments_lexer": "ipython2",
   "version": "2.7.12"
  }
 },
 "nbformat": 4,
 "nbformat_minor": 0
}
